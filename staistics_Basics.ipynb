{
  "metadata": {
    "kernelspec": {
      "name": "python",
      "display_name": "Python (Pyodide)",
      "language": "python"
    },
    "language_info": {
      "codemirror_mode": {
        "name": "python",
        "version": 3
      },
      "file_extension": ".py",
      "mimetype": "text/x-python",
      "name": "python",
      "nbconvert_exporter": "python",
      "pygments_lexer": "ipython3",
      "version": "3.8"
    }
  },
  "nbformat_minor": 4,
  "nbformat": 4,
  "cells": [
    {
      "cell_type": "markdown",
      "source": "Answer.1 -  \n1. Qualitative Data (Categorical Data)\nQualitative data represents categories or groups and is non-numerical. It describes qualities or characteristics.*italicized text*\n\nExamples:\nColors of cars in a parking lot (e.g., red, blue, black)\nTypes of cuisine (e.g., Italian, Chinese, Mexican)\nGender (e.g., male, female, other)\n\nQualitative data can be further divided into:\n\nNominal Scale\n\nDefinition: Data is categorized without any order or ranking.\nExample: Eye colors (brown, blue, green).\n\nOrdinal Scale\n\nDefinition: Data is categorized with a meaningful order, but the intervals between categories are not equal.\nExample: Movie ratings (poor, fair, good, excellent).\n\n2. Quantitative Data (Numerical Data)\nQuantitative data is numerical and can be measured or counted. It represents quantities.\n\nExamples:\nHeight of students (e.g., 5'6\", 6'0\")\nTemperature in degrees (e.g., 72°F, 30°C)\nNumber of books in a library (e.g., 5000, 12000)\n\nQuantitative data can be further divided into:\n\nInterval Scale\n\nDefinition: Data is ordered, and the intervals between values are meaningful. However, there is no true zero point.\nExample: Temperature in Celsius (0°C does not mean 'no temperature').\n\nRatio Scale\n\nDefinition: Data is ordered, intervals are meaningful, and there is a true zero point, allowing for ratios to be calculated.\nExample: Weight (0 kg means no weight), height (0 cm means no height).\n",
      "metadata": {}
    },
    {
      "cell_type": "raw",
      "source": "2. What are the measures of central tendency, and when should you use each? Discuss the mean, median,and mode with examples and situations where each is appropriate.\n\nAnswer - Measures of Central Tendency\nCentral tendency measures summarize data by identifying a central point within a dataset.\n\n1. Mean (Average)\nDefinition: The sum of all values divided by the number of values.\nExample: For \n5\n,\n10\n,\n15\n5,10,15, the mean = \n(\n5\n+\n10\n+\n15\n)\n/\n3\n=\n10\n(5+10+15)/3=10.\n\nWhen to Use:\n\nData is numerical.\nNo extreme outliers (mean is sensitive to outliers).\nExample Use Case: Average test scores.\n\n\n2. Median (Middle Value)\nDefinition: The middle value when data is ordered.\nExample: For \n5\n,\n10\n,\n15\n5,10,15, the median = \n10\n10.\nFor \n5\n,\n10\n,\n15\n,\n20\n5,10,15,20, the median = \n(\n10\n+\n15\n)\n/\n2\n=\n12.5\n(10+15)/2=12.5.\n\nWhen to Use:\n\nData has outliers or is skewed.\nExample Use Case: Median income in a population\n\n\n3. Mode (Most Frequent Value)\nDefinition: The value that appears most frequently.\nExample: For \n5\n,\n5\n,\n10\n,\n15\n5,5,10,15, the mode = \n5\n5.\n\nWhen to Use:\n\nData is categorical or needs identifying the most common value.\nExample Use Case: Most popular ice cream flavor.\n",
      "metadata": {}
    },
    {
      "cell_type": "code",
      "source": "#Question 3 - Explain the concept of dispersion. How do variance and standard deviation measure the spread of data?\n\nimport numpy as np\n\n# Example dataset\ndata = [2, 4, 6]\n\n# Calculate the mean\nmean = np.mean(data)\n\n# Calculate variance\nvariance = np.var(data)  # By default, np.var() calculates population variance\n\n# Calculate standard deviation\nstd_dev = np.sqrt(variance)\n\n# Display the results\nprint(\"Dataset:\", data)\nprint(\"Mean:\", mean)\nprint(\"Variance:\", variance)\nprint(\"Standard Deviation:\", std_dev)\n",
      "metadata": {
        "trusted": true
      },
      "outputs": [
        {
          "name": "stdout",
          "text": "Dataset: [2, 4, 6]\nMean: 4.0\nVariance: 2.6666666666666665\nStandard Deviation: 1.632993161855452\n",
          "output_type": "stream"
        }
      ],
      "execution_count": 2
    },
    {
      "cell_type": "raw",
      "source": "#Question.4 - What is a box plot, and what can it tell you about the distribution of data?\n\n\nAnswer - A box plot is a graphical representation of the distribution of a dataset. It provides a summary of the data’s central tendency, variability, and the presence of outliers.\n\nBox Plot tell us about Distribution of Data\n\n1.Spread of Data: The length of the box and whiskers shows the variability.\n2.Symmetry: If the median is centered within the box and whiskers are of equal length, the data is symmetric.\n3.Outliers: Points outside the whiskers highlight potential outliers.\n4.Skewness:\n- If the median is closer to Q1, the data is positively skewed (right-skewed).\n- If the median is closer to Q3, the data is negatively skewed (left-skewed).",
      "metadata": {}
    },
    {
      "cell_type": "markdown",
      "source": "Question.5 -  Discuss the role of random sampling in making inferences about populations.\n\nAnswer - Random sampling is a statistical method used to select a subset of individuals (a sample) from a larger group (a population) in such a way that every individual has an equal chance of being chosen. It is fundamental for drawing reliable and unbiased inferences about the population.\n\nKey Roles of Random Sampling\n\n1.Representativeness\n\nEnsures that the sample reflects the characteristics of the entire population.\nReduces bias, making the results generalizable to the population.\n\n2.Unbiased Estimates\n\nRandom sampling avoids systematic errors by giving all population members equal selection chances.\nIt allows accurate estimation of population parameters, such as mean, proportion, or standard deviation.\n\n3.Facilitates Statistical Inference\n\nEnables the application of probability theory to draw conclusions about the population from the sample.\nHelps compute confidence intervals and conduct hypothesis testing.\n\n4.Cost-Effectiveness\n\nStudying a subset of the population is more practical and less expensive than examining the entire population.\n\n5.Enables Variability Assessment\n\nMultiple random samples allow researchers to assess sampling variability and estimate the precision of population parameter estimates.\n",
      "metadata": {}
    },
    {
      "cell_type": "markdown",
      "source": "6. Explain the concept of skewness and its types. How does skewness affect the interpretation of data?\n\nAnswer - Skewness refers to the measure of asymmetry in the distribution of data. It indicates whether the data points are distributed symmetrically about the mean or are concentrated more toward one side.\n\nTypes of Skewness\n\n1.Positive Skewness (Right-Skewed)\n\n- The tail on the right side of the distribution is longer.\n- Most data points are concentrated on the lower values, with a few larger values stretching the tail.\n- Example: Income distribution in a population where a few individuals earn significantly more than the rest.\n- Effect on Mean: Mean > Median > Mode.\n\n2.Negative Skewness (Left-Skewed)\n\n- The tail on the left side of the distribution is longer.\n- Most data points are concentrated on the higher values, with a few smaller values stretching the tail.\n- Example: Age of retirement where the majority retire late but a few retire very early.\n- Effect on Mean: Mean < Median < Mode.\n\n3.No Skewness (Symmetrical Distribution)\n\nThe left and right sides of the distribution are mirror images.\nThe mean, median, and mode are equal.\nExample: Heights of individuals in a normally distributed population.\n\n\nHow Skewness Affects Data Interpretation\n\n1.Central Tendency\n\nIn skewed distributions, the mean is pulled in the direction of the tail, making the median a better measure of central tendency.\n\n2.Spread of Data\n\nSkewness affects the interpretation of variability and can exaggerate the range of values.\n\n3.Statistical Analysis\n\nMany statistical tests assume a normal distribution. Skewed data may violate these assumptions, requiring data transformation or non-parametric tests.\n\n4.Real-World Implications\n\nPositive skewness in income suggests wealth inequality.\nNegative skewness in retirement age might indicate fewer people retiring early.",
      "metadata": {}
    },
    {
      "cell_type": "markdown",
      "source": "#####################################\n\nQuestion.7 What is the interquartile range (IQR), and how is it used to detect outliers?\n\nAnswer.7 - Interquartile Range (IQR)\n\nThe IQR measures the spread of the middle 50% of a dataset. It is the range between the first quartile (Q1) and the third quartile (Q3):\n\nUsing IQR to Detect Outliers\n\n1.Determine Bounds:\n\nLower Bound: \n𝑄\n1\n−\n1.5\n×\nIQR\nQ1−1.5×IQR\n\nUpper Bound: \n𝑄\n3\n+\n1.5\n×\nIQR\nQ3+1.5×IQR\n\n2.Identify Outliers:\n\nAny data point below the lower bound or above the upper bound is considered",
      "metadata": {}
    },
    {
      "cell_type": "markdown",
      "source": "Question.8 - . Discuss the conditions under which the binomial distribution is used.\n\nAnswer -\n\n1.Fixed Number of Trials:\n\nThe process consists of a fixed number of trials, \n𝑛\nn.\nExample: Flipping a coin 10 times.\n\n2.Two Possible Outcomes:\n\nEach trial has only two outcomes: success or failure.\nExample: Success = heads, Failure = tails.\n\n3.Independence of Trials:\n\nThe outcome of one trial does not affect the outcomes of others.\nExample: Rolling a die multiple times.\n\n4.Constant Probability of Success:\n\nThe probability of success (\n𝑝\np) remains the same for every trial.\nExample: Probability of heads in a fair coin toss = 0.5.\n\n5.Discrete Data:\n\nThe variable of interest is the count of successes in \n𝑛\nn trials.\nExample: Number of heads in 10 coin flips.\nBinomial Distribution Formula\n",
      "metadata": {}
    },
    {
      "cell_type": "markdown",
      "source": "Question.9 Explain the properties of the normal distribution and the empirical rule (68-95-99.7 rule).\n\nAnswer -\n\nThe normal distribution is a continuous probability distribution characterized by a bell-shaped curve, symmetrical around the mean. Key properties include:\n\n1.Symmetry:\n\nThe curve is symmetric about the mean (\n𝜇\nμ), with the left and right sides mirroring each other.\n\n2.Mean, Median, and Mode:\n\nThey are equal and located at the center of the distribution.\n\n3.Shape:\n\nThe curve is unimodal (one peak), with the highest point at the mean.\n\n4.Tails:\n\nThe tails extend infinitely in both directions but never touch the horizontal axis.\n\n5.Area Under the Curve:\n\nThe total area under the curve equals 1, representing the entire probability.\n\n6.Standard Deviation (\n𝜎\nσ):\n\nDetermines the spread; larger \n𝜎\nσ results in a wider curve.\n\n\nEmpirical Rule (68-95-99.7 Rule)\n\nThe empirical rule provides a quick way to understand the spread of data in a normal distribution:\n\n1. 68%:\n\nAbout 68% of data falls within 1 standard deviation (\n𝜇\n±\n𝜎\nμ±σ) of the mean.\n\n2. 95%:\n\nAbout 95% of data falls within 2 standard deviations (\n𝜇\n±\n2\n𝜎\nμ±2σ).\n\n3. 99.7%:\n\nAbout 99.7% of data falls within 3 standard deviations (\n𝜇\n±\n3\n𝜎\nμ±3σ).",
      "metadata": {}
    },
    {
      "cell_type": "code",
      "source": "",
      "metadata": {
        "trusted": true
      },
      "outputs": [],
      "execution_count": null
    },
    {
      "cell_type": "code",
      "source": "\n#Question.10 - Provide a real-life example of a Poisson process and calculate the probability for a specific event.\n\nimport math\n\n# Given values\nlambda_value = 5  # average number of calls per hour\nk = 3  # number of calls we want to calculate the probability for\n\n# Poisson distribution formula: P(X = k) = (lambda^k * e^(-lambda)) / k!\npoisson_prob = (lambda_value**k * math.exp(-lambda_value)) / math.factorial(k)\n\n# Output the result\nprint(f\"The probability of receiving exactly {k} calls in 1 hour is: {poisson_prob:.4f}\")\n",
      "metadata": {
        "trusted": true
      },
      "outputs": [
        {
          "name": "stdout",
          "text": "The probability of receiving exactly 3 calls in 1 hour is: 0.1404\n",
          "output_type": "stream"
        }
      ],
      "execution_count": 3
    },
    {
      "cell_type": "code",
      "source": "",
      "metadata": {
        "trusted": true
      },
      "outputs": [],
      "execution_count": null
    },
    {
      "cell_type": "markdown",
      "source": "Question.11 - Explain what a random variable is and differentiate between discrete and continuous random variables.\n\nAnswer - A random variable is a numerical outcome of a random process or experiment. It is a function that assigns a real number to each possible outcome in a sample space. Random variables can take on different values based on chance and are used in probability theory and statistics to model uncertain quantities.\n\nTypes of Random Variables\nThere are two main types of random variables:\n\n1. Discrete Random Variables\n\nA discrete random variable can take only a countable number of distinct values.\nThese values are often integers or whole numbers.\nThe possible outcomes can be listed or counted.\n\nExamples:\nNumber of heads when flipping a coin 5 times (can be 0, 1, 2, 3, 4, or 5).\nNumber of goals scored by a soccer team in a match (e.g., 0, 1, 2, etc.).\nNumber of students passing an exam in a class.\n\nCharacteristics:\nThe set of possible outcomes is finite or countably infinite.\nProbability distribution is described by a probability mass function (PMF).\n\n\n\n2. Continuous Random Variables\n\nA continuous random variable can take on any value within a given range or interval.\nThese values are uncountable and can include fractions or decimals.\nThe set of possible outcomes is an entire interval or continuum of values.\n\nExamples:\nHeight of a person (can be any value between, say, 0 to 3 meters).\nTime taken for a car to complete a race (can be any value, like 12.56 seconds, 12.567 seconds, etc.).\nTemperature measured in a city.\n\nCharacteristics:\nThe set of possible outcomes is uncountably infinite.\nProbability distribution is described by a probability density function (PDF).\n",
      "metadata": {}
    },
    {
      "cell_type": "code",
      "source": "",
      "metadata": {
        "trusted": true
      },
      "outputs": [],
      "execution_count": null
    }
  ]
}